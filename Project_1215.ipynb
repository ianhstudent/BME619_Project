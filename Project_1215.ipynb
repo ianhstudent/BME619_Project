{
 "cells": [
  {
   "cell_type": "code",
   "execution_count": 1,
   "id": "63080a1a",
   "metadata": {},
   "outputs": [],
   "source": [
    "import torch\n",
    "import torchvision\n",
    "import pandas as pd\n",
    "from torch.utils.data import Dataset, DataLoader\n",
    "import numpy as np\n",
    "import math"
   ]
  },
  {
   "cell_type": "code",
   "execution_count": 2,
   "id": "90a7873f",
   "metadata": {},
   "outputs": [],
   "source": [
    "# Data import\n",
    "\n",
    "dataset = pd.read_csv('./AOB_Sum.csv')\n",
    "X = dataset.iloc[:, 1:41].values\n",
    "Y = dataset.iloc[:, 41].values"
   ]
  },
  {
   "cell_type": "code",
   "execution_count": 3,
   "id": "ede3bfa5",
   "metadata": {},
   "outputs": [
    {
     "data": {
      "text/html": [
       "<div>\n",
       "<style scoped>\n",
       "    .dataframe tbody tr th:only-of-type {\n",
       "        vertical-align: middle;\n",
       "    }\n",
       "\n",
       "    .dataframe tbody tr th {\n",
       "        vertical-align: top;\n",
       "    }\n",
       "\n",
       "    .dataframe thead th {\n",
       "        text-align: right;\n",
       "    }\n",
       "</style>\n",
       "<table border=\"1\" class=\"dataframe\">\n",
       "  <thead>\n",
       "    <tr style=\"text-align: right;\">\n",
       "      <th></th>\n",
       "      <th>studyid</th>\n",
       "      <th>preweightkg</th>\n",
       "      <th>prebmi</th>\n",
       "      <th>height</th>\n",
       "      <th>prebmicat</th>\n",
       "      <th>weightkg</th>\n",
       "      <th>q1bmi</th>\n",
       "      <th>q1bmicat</th>\n",
       "      <th>q1exer_2catrecode</th>\n",
       "      <th>ethnicity_2category</th>\n",
       "      <th>...</th>\n",
       "      <th>q1psi_1sd</th>\n",
       "      <th>q1dep</th>\n",
       "      <th>q1dep10</th>\n",
       "      <th>q1dep13</th>\n",
       "      <th>q1eh</th>\n",
       "      <th>q1ph</th>\n",
       "      <th>q1anx</th>\n",
       "      <th>GWGraw</th>\n",
       "      <th>bmifinal</th>\n",
       "      <th>Obesity</th>\n",
       "    </tr>\n",
       "  </thead>\n",
       "  <tbody>\n",
       "    <tr>\n",
       "      <th>0</th>\n",
       "      <td>510368</td>\n",
       "      <td>58.95</td>\n",
       "      <td>21.0</td>\n",
       "      <td>167.545303</td>\n",
       "      <td>2</td>\n",
       "      <td>63.0</td>\n",
       "      <td>22.4</td>\n",
       "      <td>2</td>\n",
       "      <td>2</td>\n",
       "      <td>1</td>\n",
       "      <td>...</td>\n",
       "      <td>0</td>\n",
       "      <td>8</td>\n",
       "      <td>0</td>\n",
       "      <td>0</td>\n",
       "      <td>0</td>\n",
       "      <td>0</td>\n",
       "      <td>42</td>\n",
       "      <td>7.65</td>\n",
       "      <td>23.7</td>\n",
       "      <td>no</td>\n",
       "    </tr>\n",
       "    <tr>\n",
       "      <th>1</th>\n",
       "      <td>510369</td>\n",
       "      <td>73.00</td>\n",
       "      <td>26.0</td>\n",
       "      <td>167.561699</td>\n",
       "      <td>3</td>\n",
       "      <td>73.0</td>\n",
       "      <td>26.0</td>\n",
       "      <td>3</td>\n",
       "      <td>2</td>\n",
       "      <td>1</td>\n",
       "      <td>...</td>\n",
       "      <td>1</td>\n",
       "      <td>14</td>\n",
       "      <td>1</td>\n",
       "      <td>1</td>\n",
       "      <td>0</td>\n",
       "      <td>1</td>\n",
       "      <td>51</td>\n",
       "      <td>7.00</td>\n",
       "      <td>28.5</td>\n",
       "      <td>no</td>\n",
       "    </tr>\n",
       "    <tr>\n",
       "      <th>2</th>\n",
       "      <td>512265</td>\n",
       "      <td>52.00</td>\n",
       "      <td>22.5</td>\n",
       "      <td>152.023390</td>\n",
       "      <td>2</td>\n",
       "      <td>59.0</td>\n",
       "      <td>25.5</td>\n",
       "      <td>3</td>\n",
       "      <td>1</td>\n",
       "      <td>0</td>\n",
       "      <td>...</td>\n",
       "      <td>1</td>\n",
       "      <td>15</td>\n",
       "      <td>1</td>\n",
       "      <td>1</td>\n",
       "      <td>0</td>\n",
       "      <td>0</td>\n",
       "      <td>38</td>\n",
       "      <td>18.00</td>\n",
       "      <td>30.3</td>\n",
       "      <td>yes</td>\n",
       "    </tr>\n",
       "    <tr>\n",
       "      <th>3</th>\n",
       "      <td>515122</td>\n",
       "      <td>54.00</td>\n",
       "      <td>20.4</td>\n",
       "      <td>162.697843</td>\n",
       "      <td>2</td>\n",
       "      <td>54.0</td>\n",
       "      <td>20.4</td>\n",
       "      <td>2</td>\n",
       "      <td>1</td>\n",
       "      <td>1</td>\n",
       "      <td>...</td>\n",
       "      <td>0</td>\n",
       "      <td>5</td>\n",
       "      <td>0</td>\n",
       "      <td>0</td>\n",
       "      <td>0</td>\n",
       "      <td>0</td>\n",
       "      <td>25</td>\n",
       "      <td>4.95</td>\n",
       "      <td>22.3</td>\n",
       "      <td>no</td>\n",
       "    </tr>\n",
       "    <tr>\n",
       "      <th>4</th>\n",
       "      <td>515123</td>\n",
       "      <td>54.90</td>\n",
       "      <td>18.3</td>\n",
       "      <td>173.205081</td>\n",
       "      <td>1</td>\n",
       "      <td>56.7</td>\n",
       "      <td>18.9</td>\n",
       "      <td>2</td>\n",
       "      <td>2</td>\n",
       "      <td>1</td>\n",
       "      <td>...</td>\n",
       "      <td>0</td>\n",
       "      <td>0</td>\n",
       "      <td>0</td>\n",
       "      <td>0</td>\n",
       "      <td>0</td>\n",
       "      <td>0</td>\n",
       "      <td>21</td>\n",
       "      <td>12.15</td>\n",
       "      <td>22.4</td>\n",
       "      <td>no</td>\n",
       "    </tr>\n",
       "  </tbody>\n",
       "</table>\n",
       "<p>5 rows × 42 columns</p>\n",
       "</div>"
      ],
      "text/plain": [
       "   studyid  preweightkg  prebmi      height  prebmicat  weightkg  q1bmi  \\\n",
       "0   510368        58.95    21.0  167.545303          2      63.0   22.4   \n",
       "1   510369        73.00    26.0  167.561699          3      73.0   26.0   \n",
       "2   512265        52.00    22.5  152.023390          2      59.0   25.5   \n",
       "3   515122        54.00    20.4  162.697843          2      54.0   20.4   \n",
       "4   515123        54.90    18.3  173.205081          1      56.7   18.9   \n",
       "\n",
       "   q1bmicat  q1exer_2catrecode  ethnicity_2category  ...  q1psi_1sd  q1dep  \\\n",
       "0         2                  2                    1  ...          0      8   \n",
       "1         3                  2                    1  ...          1     14   \n",
       "2         3                  1                    0  ...          1     15   \n",
       "3         2                  1                    1  ...          0      5   \n",
       "4         2                  2                    1  ...          0      0   \n",
       "\n",
       "   q1dep10  q1dep13  q1eh  q1ph  q1anx  GWGraw  bmifinal  Obesity  \n",
       "0        0        0     0     0     42    7.65      23.7       no  \n",
       "1        1        1     0     1     51    7.00      28.5       no  \n",
       "2        1        1     0     0     38   18.00      30.3      yes  \n",
       "3        0        0     0     0     25    4.95      22.3       no  \n",
       "4        0        0     0     0     21   12.15      22.4       no  \n",
       "\n",
       "[5 rows x 42 columns]"
      ]
     },
     "execution_count": 3,
     "metadata": {},
     "output_type": "execute_result"
    }
   ],
   "source": [
    "dataset.head()"
   ]
  },
  {
   "cell_type": "code",
   "execution_count": 4,
   "id": "e20f0313",
   "metadata": {},
   "outputs": [
    {
     "name": "stdout",
     "output_type": "stream",
     "text": [
      "(470, 42)\n"
     ]
    }
   ],
   "source": [
    "print(format(dataset.shape))"
   ]
  },
  {
   "cell_type": "code",
   "execution_count": 5,
   "id": "825c1291",
   "metadata": {},
   "outputs": [
    {
     "data": {
      "text/plain": [
       "studyid                         0\n",
       "preweightkg                     0\n",
       "prebmi                          0\n",
       "height                          0\n",
       "prebmicat                       0\n",
       "weightkg                        0\n",
       "q1bmi                           0\n",
       "q1bmicat                        0\n",
       "q1exer_2catrecode               0\n",
       "ethnicity_2category             0\n",
       "aboriginallumped                0\n",
       "mometh                          0\n",
       "dadaboriginallumped             0\n",
       "pateth                          0\n",
       "q2weightkg                      0\n",
       "q2bmi                           0\n",
       "q2bmicat                        0\n",
       "q3ga                            0\n",
       "childgender                     0\n",
       "baby1totalgramsfinal            0\n",
       "matagedelivery                  0\n",
       "prebmi_recode3categories        0\n",
       "q3bmi_recode3categories         0\n",
       "wgbmi_cat                       0\n",
       "PregnancyInducedHypertension    0\n",
       "Proteinuria                     0\n",
       "GestationalDiabetes             0\n",
       "Anemia                          0\n",
       "PoorWeightGain                  0\n",
       "HX_DM                           0\n",
       "GESTATIONALDIABETES_A           0\n",
       "q1psi                           0\n",
       "q1psi_1sd                       0\n",
       "q1dep                           0\n",
       "q1dep10                         0\n",
       "q1dep13                         0\n",
       "q1eh                            0\n",
       "q1ph                            0\n",
       "q1anx                           0\n",
       "GWGraw                          0\n",
       "bmifinal                        0\n",
       "Obesity                         0\n",
       "dtype: int64"
      ]
     },
     "execution_count": 5,
     "metadata": {},
     "output_type": "execute_result"
    }
   ],
   "source": [
    "# Check for any missing data point\n",
    "\n",
    "dataset.isnull().sum()\n",
    "dataset.isna().sum()"
   ]
  },
  {
   "cell_type": "code",
   "execution_count": 6,
   "id": "47beaa95",
   "metadata": {},
   "outputs": [
    {
     "name": "stdout",
     "output_type": "stream",
     "text": [
      "[1 1 2 1 1 2 1 1 2 2 2 1 1 1 1 1 1 1 1 1 1 1 2 2 2 1 1 2 1 2 1 1 1 1 1 2 1\n",
      " 2 1 1 1 1 1 2 1 1 1 2 2 1 1 1 1 1 1 1 1 1 1 1 1 1 2 1 2 1 2 1 1 2 1 1 1 1\n",
      " 1 2 2 1 1 1 1 1 1 2 1 1 2 2 1 1 1 1 1 1 2 2 1 1 2 2 1 1 2 2 1 1 1 2 1 2 1\n",
      " 1 1 1 2 1 2 1 2 2 2 1 1 2 2 2 1 1 1 1 2 0 2 1 2 1 1 1 1 1 1 1 1 2 1 1 1 1\n",
      " 1 2 1 1 1 2 2 1 2 1 1 1 1 1 1 1 1 1 1 1 1 1 2 1 1 1 1 2 1 2 2 2 1 1 2 2 2\n",
      " 2 2 1 2 1 1 1 2 1 1 1 1 2 1 0 1 2 2 1 2 1 1 1 2 1 1 2 2 1 2 1 1 1 2 1 1 1\n",
      " 1 1 2 1 2 1 1 1 1 2 1 2 1 2 1 1 2 2 2 1 1 1 1 1 1 1 2 1 1 1 1 2 1 2 2 1 1\n",
      " 1 1 1 2 2 1 1 1 2 1 1 2 1 1 1 1 1 1 1 1 1 2 1 1 1 1 1 1 2 2 1 2 2 2 1 1 1\n",
      " 1 1 1 2 1 1 2 1 1 2 1 1 1 2 2 2 1 1 2 2 2 1 2 1 1 1 2 1 1 2 2 1 1 1 2 1 2\n",
      " 2 2 2 1 1 2 1 2 1 1 2 1 2 2 1 2 1 2 1 1 2 1 1 1 1 1 2 1 2 2 1 1 2 2 1 1 2\n",
      " 1 1 1 1 1 2 2 1 1 2 1 2 1 1 1 1 2 2 1 1 1 2 2 1 2 2 1 1 2 1 2 1 1 2 1 1 1\n",
      " 1 1 1 1 1 2 1 2 1 1 1 1 1 2 2 2 1 2 2 1 1 2 1 1 1 1 2 1 2 2 1 2 1 1 2 2 2\n",
      " 2 2 2 1 1 1 1 1 2 1 2 1 2 1 1 1 1 1 1 1 2 2 1 1 2 2]\n"
     ]
    }
   ],
   "source": [
    "# Convert obesity text (Y/N) into numberical values\n",
    "\n",
    "from sklearn.preprocessing import LabelEncoder\n",
    "labelencoder_Y = LabelEncoder()\n",
    "Y = labelencoder_Y.fit_transform(Y)\n",
    "print(Y)"
   ]
  },
  {
   "cell_type": "code",
   "execution_count": 7,
   "id": "c8f31a68",
   "metadata": {},
   "outputs": [],
   "source": [
    "# Spit data into training (75%) and testing sets (25%)\n",
    "\n",
    "from sklearn.model_selection import train_test_split\n",
    "X_train, X_test, Y_train, Y_test = train_test_split(X, Y, test_size = 0.25, random_state = 0)"
   ]
  },
  {
   "cell_type": "code",
   "execution_count": 8,
   "id": "f46776d1",
   "metadata": {},
   "outputs": [],
   "source": [
    "# Transform data for feature scaling\n",
    "\n",
    "from sklearn.preprocessing import StandardScaler\n",
    "sc = StandardScaler()\n",
    "X_train = sc.fit_transform(X_train)\n",
    "X_test = sc.transform(X_test)"
   ]
  },
  {
   "cell_type": "code",
   "execution_count": 9,
   "id": "e8ca9faf",
   "metadata": {},
   "outputs": [
    {
     "data": {
      "text/plain": [
       "(352, 40)"
      ]
     },
     "execution_count": 9,
     "metadata": {},
     "output_type": "execute_result"
    }
   ],
   "source": [
    "X_train.shape"
   ]
  },
  {
   "cell_type": "code",
   "execution_count": 10,
   "id": "dfa701fa",
   "metadata": {},
   "outputs": [
    {
     "data": {
      "text/plain": [
       "(118, 40)"
      ]
     },
     "execution_count": 10,
     "metadata": {},
     "output_type": "execute_result"
    }
   ],
   "source": [
    "X_test.shape"
   ]
  },
  {
   "cell_type": "code",
   "execution_count": 11,
   "id": "47b61e99",
   "metadata": {},
   "outputs": [
    {
     "data": {
      "text/plain": [
       "(-3.936245269125555e-17, 0.9617692030835674)"
      ]
     },
     "execution_count": 11,
     "metadata": {},
     "output_type": "execute_result"
    }
   ],
   "source": [
    "np.mean(X_train),np.std(X_train)"
   ]
  },
  {
   "cell_type": "code",
   "execution_count": 12,
   "id": "73f2dc3d",
   "metadata": {},
   "outputs": [],
   "source": [
    "# Use principle components which retain 90% variance\n",
    "\n",
    "from sklearn.decomposition import PCA\n",
    "pca=PCA(0.9)"
   ]
  },
  {
   "cell_type": "code",
   "execution_count": 13,
   "id": "170bf10b",
   "metadata": {},
   "outputs": [
    {
     "data": {
      "text/plain": [
       "PCA(n_components=0.9)"
      ]
     },
     "execution_count": 13,
     "metadata": {},
     "output_type": "execute_result"
    }
   ],
   "source": [
    "# Test PCA with the training data set\n",
    "\n",
    "pca.fit(X_train)\n",
    "PCA(copy=True, iterated_power='auto', n_components=0.9, random_state=None,\n",
    "  svd_solver='auto', tol=0.0, whiten=False)"
   ]
  },
  {
   "cell_type": "code",
   "execution_count": 14,
   "id": "1f173739",
   "metadata": {},
   "outputs": [
    {
     "data": {
      "text/plain": [
       "19"
      ]
     },
     "execution_count": 14,
     "metadata": {},
     "output_type": "execute_result"
    }
   ],
   "source": [
    "# Check the number of principle components\n",
    "\n",
    "pca.n_components_"
   ]
  },
  {
   "cell_type": "code",
   "execution_count": 15,
   "id": "8f586ed5",
   "metadata": {},
   "outputs": [],
   "source": [
    "# Apply PCA to training and testing sets\n",
    "\n",
    "X_train_pca = pca.transform(X_train)\n",
    "X_test_pca = pca.transform(X_test)"
   ]
  },
  {
   "cell_type": "code",
   "execution_count": 16,
   "id": "7d0692a4",
   "metadata": {},
   "outputs": [
    {
     "data": {
      "text/plain": [
       "LogisticRegression(random_state=0)"
      ]
     },
     "execution_count": 16,
     "metadata": {},
     "output_type": "execute_result"
    }
   ],
   "source": [
    "# Test out classification models for training/testing performance\n",
    "# Logistic Regression\n",
    "\n",
    "from sklearn.linear_model import LogisticRegression\n",
    "logclassifier = LogisticRegression(random_state = 0)\n",
    "logclassifier.fit(X_train_pca, Y_train)"
   ]
  },
  {
   "cell_type": "code",
   "execution_count": 17,
   "id": "5004e540",
   "metadata": {},
   "outputs": [
    {
     "data": {
      "text/plain": [
       "<sklearn.metrics._plot.confusion_matrix.ConfusionMatrixDisplay at 0x1d5e1b34850>"
      ]
     },
     "execution_count": 17,
     "metadata": {},
     "output_type": "execute_result"
    },
    {
     "data": {
      "image/png": "[encoded data removed]",
      "text/plain": [
       "<Figure size 432x288 with 2 Axes>"
      ]
     },
     "metadata": {
      "needs_background": "light"
     },
     "output_type": "display_data"
    }
   ],
   "source": [
    "from sklearn.metrics import plot_confusion_matrix\n",
    "plot_confusion_matrix(logclassifier.fit(X_train_pca, Y_train), X_test_pca, Y_test)"
   ]
  },
  {
   "cell_type": "code",
   "execution_count": 18,
   "id": "61c491c2",
   "metadata": {},
   "outputs": [
    {
     "name": "stdout",
     "output_type": "stream",
     "text": [
      "92.37288135593221 %\n"
     ]
    }
   ],
   "source": [
    "accuracy_pca_log = (76+33)/(76+33+3+6)*100\n",
    "print(accuracy_pca_log,\"%\")"
   ]
  },
  {
   "cell_type": "code",
   "execution_count": 19,
   "id": "bbe86600",
   "metadata": {},
   "outputs": [
    {
     "data": {
      "text/plain": [
       "GaussianNB()"
      ]
     },
     "execution_count": 19,
     "metadata": {},
     "output_type": "execute_result"
    }
   ],
   "source": [
    "# naive bayes\n",
    "\n",
    "from sklearn.naive_bayes import GaussianNB\n",
    "naiveclassifier = GaussianNB()\n",
    "naiveclassifier.fit(X_train_pca, Y_train)"
   ]
  },
  {
   "cell_type": "code",
   "execution_count": 20,
   "id": "1858232a",
   "metadata": {},
   "outputs": [
    {
     "data": {
      "text/plain": [
       "<sklearn.metrics._plot.confusion_matrix.ConfusionMatrixDisplay at 0x1d5e2eca760>"
      ]
     },
     "execution_count": 20,
     "metadata": {},
     "output_type": "execute_result"
    },
    {
     "data": {
      "image/png": "[encoded data removed]",
      "text/plain": [
       "<Figure size 432x288 with 2 Axes>"
      ]
     },
     "metadata": {
      "needs_background": "light"
     },
     "output_type": "display_data"
    }
   ],
   "source": [
    "plot_confusion_matrix(naiveclassifier.fit(X_train_pca, Y_train), X_test_pca, Y_test)"
   ]
  },
  {
   "cell_type": "code",
   "execution_count": 21,
   "id": "aa1faa66",
   "metadata": {},
   "outputs": [
    {
     "name": "stdout",
     "output_type": "stream",
     "text": [
      "82.20338983050848 %\n"
     ]
    }
   ],
   "source": [
    "accuracy_pca_log = (69+28)/(69+28+11+10)*100\n",
    "print(accuracy_pca_log,\"%\")"
   ]
  },
  {
   "cell_type": "code",
   "execution_count": 22,
   "id": "a2192901",
   "metadata": {},
   "outputs": [
    {
     "data": {
      "text/plain": [
       "KNeighborsClassifier()"
      ]
     },
     "execution_count": 22,
     "metadata": {},
     "output_type": "execute_result"
    }
   ],
   "source": [
    "# K Nearest neighbor\n",
    "\n",
    "from sklearn.neighbors import KNeighborsClassifier\n",
    "KNclassifier = KNeighborsClassifier(n_neighbors = 5, metric = 'minkowski', p = 2)\n",
    "KNclassifier.fit(X_train_pca, Y_train)"
   ]
  },
  {
   "cell_type": "code",
   "execution_count": 23,
   "id": "cecd7b59",
   "metadata": {},
   "outputs": [
    {
     "data": {
      "text/plain": [
       "<sklearn.metrics._plot.confusion_matrix.ConfusionMatrixDisplay at 0x1d5e5178610>"
      ]
     },
     "execution_count": 23,
     "metadata": {},
     "output_type": "execute_result"
    },
    {
     "data": {
      "image/png": "[encoded data removed]",
      "text/plain": [
       "<Figure size 432x288 with 2 Axes>"
      ]
     },
     "metadata": {
      "needs_background": "light"
     },
     "output_type": "display_data"
    }
   ],
   "source": [
    "plot_confusion_matrix(KNclassifier.fit(X_train_pca, Y_train), X_test_pca, Y_test)"
   ]
  },
  {
   "cell_type": "code",
   "execution_count": 24,
   "id": "af6427fd",
   "metadata": {},
   "outputs": [
    {
     "name": "stdout",
     "output_type": "stream",
     "text": [
      "88.13559322033898 %\n"
     ]
    }
   ],
   "source": [
    "accuracy_pca_Kneighbor = (74+30)/(74+30+5+9)*100\n",
    "print(accuracy_pca_Kneighbor,\"%\")"
   ]
  },
  {
   "cell_type": "code",
   "execution_count": 25,
   "id": "39aa85aa",
   "metadata": {},
   "outputs": [
    {
     "data": {
      "text/plain": [
       "<sklearn.metrics._plot.confusion_matrix.ConfusionMatrixDisplay at 0x1d5e64f3fa0>"
      ]
     },
     "execution_count": 25,
     "metadata": {},
     "output_type": "execute_result"
    },
    {
     "data": {
      "image/png": "[encoded data removed]",
      "text/plain": [
       "<Figure size 432x288 with 2 Axes>"
      ]
     },
     "metadata": {
      "needs_background": "light"
     },
     "output_type": "display_data"
    }
   ],
   "source": [
    "# Random Forest Classification\n",
    "\n",
    "from sklearn.ensemble import RandomForestClassifier\n",
    "forestclassifier = RandomForestClassifier(n_estimators = 10, criterion = 'entropy', random_state = 0)\n",
    "forestclassifier.fit(X_train_pca, Y_train)\n",
    "\n",
    "plot_confusion_matrix(forestclassifier.fit(X_train_pca, Y_train), X_test_pca, Y_test)"
   ]
  },
  {
   "cell_type": "code",
   "execution_count": 26,
   "id": "b63a58a7",
   "metadata": {},
   "outputs": [
    {
     "name": "stdout",
     "output_type": "stream",
     "text": [
      "91.52542372881356 %\n"
     ]
    }
   ],
   "source": [
    "accuracy_pca_forest = (76+32)/(76+32+3+7)*100\n",
    "print(accuracy_pca_forest,\"%\")"
   ]
  },
  {
   "cell_type": "code",
   "execution_count": null,
   "id": "70eeddc8",
   "metadata": {},
   "outputs": [],
   "source": []
  }
 ],
 "metadata": {
  "kernelspec": {
   "display_name": "Python 3 (ipykernel)",
   "language": "python",
   "name": "python3"
  },
  "language_info": {
   "codemirror_mode": {
    "name": "ipython",
    "version": 3
   },
   "file_extension": ".py",
   "mimetype": "text/x-python",
   "name": "python",
   "nbconvert_exporter": "python",
   "pygments_lexer": "ipython3",
   "version": "3.8.8"
  }
 },
 "nbformat": 4,
 "nbformat_minor": 5
}
